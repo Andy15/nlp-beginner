{
 "cells": [
  {
   "cell_type": "code",
   "execution_count": 1,
   "metadata": {},
   "outputs": [],
   "source": [
    "import csv\n",
    "import numpy as np\n",
    "import pandas as pd\n",
    "\n",
    "import torch\n",
    "import torch.nn as nn\n",
    "import torch.nn.functional as F\n",
    "\n",
    "length = 100\n",
    "embedding_dim = 50\n",
    "hidden_size = 50\n",
    "dropout_rate = 0.5\n",
    "num_classes = 3\n",
    "lr = 1e-3\n",
    "num_epochs = 100\n",
    "batch_size = 32\n",
    "device = \"cuda\" if torch.cuda.is_available() else \"cpu\""
   ]
  },
  {
   "cell_type": "code",
   "execution_count": 2,
   "metadata": {},
   "outputs": [],
   "source": [
    "df_train = pd.read_json('snli_1.0_train.jsonl', lines=True, nrows=8192)\n",
    "df_train = df_train.drop(df_train[df_train['gold_label'] == '-'].index)\n",
    "df_val = pd.read_json('snli_1.0_dev.jsonl', lines=True, nrows=1024)\n",
    "df_val = df_val.drop(df_val[df_val['gold_label'] == '-'].index)\n",
    "df_test = pd.read_json('snli_1.0_test.jsonl', lines=True, nrows=1024)\n",
    "df_test = df_test.drop(df_test[df_test['gold_label'] == '-'].index)"
   ]
  },
  {
   "cell_type": "code",
   "execution_count": 3,
   "metadata": {},
   "outputs": [],
   "source": [
    "Xa_train = list()\n",
    "Xb_train = list()\n",
    "vocab = dict({'<pad>': 0, '<unk>': 1})\n",
    "for sentence in df_train['sentence1_binary_parse']:\n",
    "    indices = list()\n",
    "    words = sentence.replace('(', '').replace(')', '').split()\n",
    "    for word in words:\n",
    "        if word not in vocab:\n",
    "            vocab[word] = len(vocab)\n",
    "        indices.append(vocab[word])\n",
    "    while len(indices) < length:\n",
    "        indices.append(0)\n",
    "    Xa_train.append(indices)\n",
    "for sentence in df_train['sentence2_binary_parse']:\n",
    "    indices = list()\n",
    "    words = sentence.replace('(', '').replace(')', '').split()\n",
    "    for word in words:\n",
    "        if word not in vocab:\n",
    "            vocab[word] = len(vocab)\n",
    "        indices.append(vocab[word])\n",
    "    while len(indices) < length:\n",
    "        indices.append(0)\n",
    "    Xb_train.append(indices)\n",
    "Xa_train = torch.tensor(Xa_train).to(device)\n",
    "Xb_train = torch.tensor(Xb_train).to(device)"
   ]
  },
  {
   "cell_type": "code",
   "execution_count": 4,
   "metadata": {},
   "outputs": [],
   "source": [
    "labels = {'entailment': 0, 'contradiction': 1, 'neutral': 2}\n",
    "Y_train = torch.zeros((df_train.shape[0], num_classes)).to(device)\n",
    "for idx, label in enumerate(df_train['gold_label']):\n",
    "    if label == '-':\n",
    "        print(df_train['gold_label'][idx])\n",
    "    Y_train[idx, labels[label]] = 1"
   ]
  },
  {
   "cell_type": "code",
   "execution_count": 5,
   "metadata": {},
   "outputs": [],
   "source": [
    "Xa_test = list()\n",
    "Xb_test = list()\n",
    "for sentence in df_test['sentence1_binary_parse']:\n",
    "    indices = list()\n",
    "    words = sentence.replace('(', '').replace(')', '').split()\n",
    "    for word in words:\n",
    "        if word in vocab:\n",
    "            indices.append(vocab[word])\n",
    "        else:\n",
    "            indices.append(1)\n",
    "    while len(indices) < length:\n",
    "        indices.append(0)\n",
    "    Xa_test.append(indices)\n",
    "for sentence in df_test[\"sentence2_binary_parse\"]:\n",
    "    indices = list()\n",
    "    words = sentence.replace('(', '').replace(')', '').split()\n",
    "    for word in words:\n",
    "        if word in vocab:\n",
    "            indices.append(vocab[word])\n",
    "        else:\n",
    "            indices.append(1)\n",
    "    while len(indices) < length:\n",
    "        indices.append(0)\n",
    "    Xb_test.append(indices)\n",
    "Xa_test = torch.tensor(Xa_test).to(device)\n",
    "Xb_test = torch.tensor(Xb_test).to(device)"
   ]
  },
  {
   "cell_type": "code",
   "execution_count": 6,
   "metadata": {},
   "outputs": [],
   "source": [
    "Y_test = torch.zeros((df_test.shape[0], num_classes)).to(device)\n",
    "for idx, label in enumerate(df_test['gold_label']):\n",
    "    Y_test[idx, labels[label]] = 1"
   ]
  },
  {
   "cell_type": "code",
   "execution_count": 7,
   "metadata": {},
   "outputs": [],
   "source": [
    "glove = pd.read_table(\"glove.6B.50d.txt\", sep=' ', header=None, quoting=csv.QUOTE_NONE)\n",
    "vectors = torch.zeros((len(vocab), embedding_dim)).to(device)\n",
    "torch.nn.init.uniform_(vectors)\n",
    "vectors[0] = torch.zeros_like(vectors[0])\n",
    "for row in glove.iterrows():\n",
    "    if row[1][0] in vocab:\n",
    "        vectors[vocab[row[1][0]]] = torch.tensor(np.array(row[1][1:]).astype(np.float32))"
   ]
  },
  {
   "cell_type": "code",
   "execution_count": 8,
   "metadata": {},
   "outputs": [],
   "source": [
    "class ESIM(nn.Module):\n",
    "    def __init__(self, num_embeddings, vectors):\n",
    "        super().__init__()\n",
    "\n",
    "        self.embed = nn.Embedding(num_embeddings, embedding_dim).from_pretrained(vectors)\n",
    "        self.bilstm1 = nn.LSTM(embedding_dim, hidden_size, batch_first=True, bidirectional=True)\n",
    "        self.ff1 = nn.Linear(embedding_dim * 8, embedding_dim)\n",
    "        self.bilstm2 = nn.LSTM(embedding_dim, hidden_size, batch_first=True, bidirectional=True)\n",
    "        self.ff2 = nn.Linear(embedding_dim * 8, embedding_dim)\n",
    "        self.ff3 = nn.Linear(embedding_dim, num_classes)\n",
    "\n",
    "    def forward(self, a, b):\n",
    "        a = self.embed(a)\n",
    "        b = self.embed(b)\n",
    "\n",
    "        a_bar, _ = self.bilstm1(a)\n",
    "        b_bar, _ = self.bilstm1(b)\n",
    "\n",
    "        e = F.softmax(torch.bmm(a_bar.transpose(1, 2).contiguous(), b_bar), dim=-1)\n",
    "        a_tilde = torch.bmm(e, b_bar)\n",
    "        b_tilde = torch.bmm(e, a_bar)\n",
    "\n",
    "        m_a = torch.cat([a_bar, a_tilde, a_bar - a_tilde, a_bar * a_tilde], dim=-1)\n",
    "        m_b = torch.cat([b_bar, b_tilde, b_bar - b_tilde, b_bar * b_tilde], dim=-1)\n",
    "\n",
    "        v_a, _ = self.bilstm2(F.dropout(F.relu(self.ff1(m_a)), dropout_rate))\n",
    "        v_b, _ = self.bilstm2(F.dropout(F.relu(self.ff1(m_b)), dropout_rate))\n",
    "\n",
    "        v_a_ave = torch.mean(v_a, dim=1)\n",
    "        v_a_max = torch.max(v_a, dim=1).values\n",
    "        v_b_ave = torch.mean(v_b, dim=1)\n",
    "        v_b_max = torch.max(v_b, dim=1).values\n",
    "        v = torch.cat([v_a_ave, v_a_max, v_b_ave, v_b_max], dim=-1)\n",
    "\n",
    "        out = F.tanh(self.ff2(v))\n",
    "        out = F.softmax(self.ff3(out), dim=-1)\n",
    "        return out"
   ]
  },
  {
   "cell_type": "code",
   "execution_count": 9,
   "metadata": {},
   "outputs": [],
   "source": [
    "esim = ESIM(len(vocab), vectors).to(device)\n",
    "optimizer = torch.optim.Adam(esim.parameters(), lr=lr)\n",
    "criterion = nn.CrossEntropyLoss()"
   ]
  },
  {
   "cell_type": "code",
   "execution_count": 10,
   "metadata": {},
   "outputs": [],
   "source": [
    "esim.train()\n",
    "for epoch in range(num_epochs):\n",
    "    for batch in range(df_train.shape[0] // batch_size):\n",
    "        pred = esim(Xa_train[batch * batch_size:(batch + 1) * batch_size], Xb_train[batch * batch_size:(batch + 1) * batch_size])\n",
    "        loss = criterion(pred, Y_train[batch * batch_size:(batch + 1) * batch_size])\n",
    "        optimizer.zero_grad()\n",
    "        loss.backward()\n",
    "        optimizer.step()"
   ]
  },
  {
   "cell_type": "code",
   "execution_count": 11,
   "metadata": {},
   "outputs": [
    {
     "name": "stdout",
     "output_type": "stream",
     "text": [
      "Accuracy on test set: 0.616600790513834\n"
     ]
    }
   ],
   "source": [
    "esim.eval()\n",
    "pred = esim(Xa_test, Xb_test).detach().cpu().numpy()\n",
    "print(\"Accuracy on test set: {}\".format(np.mean(np.argmax(pred, axis=1) == np.argmax(Y_test.cpu().numpy(), axis=1))))"
   ]
  }
 ],
 "metadata": {
  "kernelspec": {
   "display_name": "torch",
   "language": "python",
   "name": "python3"
  },
  "language_info": {
   "codemirror_mode": {
    "name": "ipython",
    "version": 3
   },
   "file_extension": ".py",
   "mimetype": "text/x-python",
   "name": "python",
   "nbconvert_exporter": "python",
   "pygments_lexer": "ipython3",
   "version": "3.11.7"
  }
 },
 "nbformat": 4,
 "nbformat_minor": 2
}
