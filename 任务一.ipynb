{
 "cells": [
  {
   "cell_type": "code",
   "execution_count": 1,
   "metadata": {},
   "outputs": [],
   "source": [
    "import numpy as np\n",
    "import pandas as pd\n",
    "\n",
    "num_classes = 5\n",
    "num_epochs = 100\n",
    "num_gram = 2\n",
    "lrs = [1e3, 1e2, 1e1, 1, 1e-1, 1e-2, 1e-3]\n",
    "batch_size = 32"
   ]
  },
  {
   "cell_type": "code",
   "execution_count": 2,
   "metadata": {},
   "outputs": [],
   "source": [
    "df = pd.read_csv('train.tsv', sep='\\t')[:10000]\n",
    "df = df.reindex(np.random.permutation(df.shape[0]))\n",
    "df_train = df[:int(df.shape[0] * 0.8)]\n",
    "df_test = df[int(df.shape[0] * 0.8):]"
   ]
  },
  {
   "cell_type": "markdown",
   "metadata": {},
   "source": [
    "# Bag-of-Words"
   ]
  },
  {
   "cell_type": "code",
   "execution_count": 3,
   "metadata": {},
   "outputs": [],
   "source": [
    "bag = dict()\n",
    "for phrase in df_train['Phrase']:\n",
    "    words = phrase.split(' ')\n",
    "    for word in words:\n",
    "        if word not in bag:\n",
    "            bag[word] = len(bag)"
   ]
  },
  {
   "cell_type": "code",
   "execution_count": 4,
   "metadata": {},
   "outputs": [],
   "source": [
    "X_train = np.zeros((df_train.shape[0], len(bag)))\n",
    "for idx, phrase in enumerate(df_train['Phrase']):\n",
    "    words = phrase.split(' ')\n",
    "    for word in words:\n",
    "        X_train[idx, bag[word]] = 1"
   ]
  },
  {
   "cell_type": "code",
   "execution_count": 5,
   "metadata": {},
   "outputs": [],
   "source": [
    "Y_train = np.zeros((df_train.shape[0], num_classes))\n",
    "for idx, sentiment in enumerate(df_train['Sentiment']):\n",
    "    Y_train[idx, sentiment] = 1"
   ]
  },
  {
   "cell_type": "code",
   "execution_count": 6,
   "metadata": {},
   "outputs": [],
   "source": [
    "X_test = np.zeros((df_test.shape[0], len(bag)))\n",
    "for idx, phrase in enumerate(df_test['Phrase']):\n",
    "    words = phrase.split(' ')\n",
    "    for word in words:\n",
    "        if word in bag:\n",
    "            X_test[idx, bag[word]] = 1"
   ]
  },
  {
   "cell_type": "code",
   "execution_count": 7,
   "metadata": {},
   "outputs": [],
   "source": [
    "W_init = 1e-4 * np.random.randn(len(bag), num_classes)"
   ]
  },
  {
   "cell_type": "code",
   "execution_count": 8,
   "metadata": {},
   "outputs": [
    {
     "name": "stdout",
     "output_type": "stream",
     "text": [
      "Accuracy of batch when lr=1000.0: 0.4705\n",
      "Accuracy of batch when lr=100.0: 0.5025\n",
      "Accuracy of batch when lr=10.0: 0.495\n",
      "Accuracy of batch when lr=1: 0.441\n",
      "Accuracy of batch when lr=0.1: 0.4685\n",
      "Accuracy of batch when lr=0.01: 0.49\n",
      "Accuracy of batch when lr=0.001: 0.4305\n"
     ]
    }
   ],
   "source": [
    "for lr in lrs:\n",
    "    W = W_init.copy()\n",
    "    for epoch in range(num_epochs):\n",
    "        out = np.exp(np.dot(X_train, W))\n",
    "        out = out / np.sum(out, axis=1, keepdims=True)\n",
    "        dW = -(1 / df_train.shape[0]) * np.dot(X_train.T, out - Y_train)\n",
    "        W += lr * dW\n",
    "\n",
    "    out = np.exp(np.dot(X_test, W))\n",
    "    out = out / np.sum(out, axis=1, keepdims=True)\n",
    "    result = np.argmax(out, axis=1)\n",
    "    print(\"Accuracy of batch when lr={}: {}\".format(lr, np.mean(result == np.array(df_test['Sentiment']))))"
   ]
  },
  {
   "cell_type": "code",
   "execution_count": 9,
   "metadata": {},
   "outputs": [
    {
     "name": "stderr",
     "output_type": "stream",
     "text": [
      "C:\\Users\\Marr0N\\AppData\\Local\\Temp\\ipykernel_14600\\1122723046.py:7: RuntimeWarning: overflow encountered in exp\n",
      "  out = np.exp(np.dot(X, W))\n",
      "C:\\Users\\Marr0N\\AppData\\Local\\Temp\\ipykernel_14600\\1122723046.py:8: RuntimeWarning: invalid value encountered in divide\n",
      "  out = out / np.sum(out, axis=1, keepdims=True)\n"
     ]
    },
    {
     "name": "stdout",
     "output_type": "stream",
     "text": [
      "Accuracy of mini-batch when lr=1000.0: 0.0365\n",
      "Accuracy of mini-batch when lr=100.0: 0.4665\n",
      "Accuracy of mini-batch when lr=10.0: 0.4935\n",
      "Accuracy of mini-batch when lr=1: 0.5235\n",
      "Accuracy of mini-batch when lr=0.1: 0.509\n",
      "Accuracy of mini-batch when lr=0.01: 0.472\n",
      "Accuracy of mini-batch when lr=0.001: 0.441\n"
     ]
    }
   ],
   "source": [
    "for lr in lrs:\n",
    "    W = W_init.copy()\n",
    "    for epoch in range(num_epochs):\n",
    "        for batch in range(df_train.shape[0] // batch_size):\n",
    "            X = X_train[batch * batch_size:(batch + 1) * batch_size]\n",
    "            Y = Y_train[batch * batch_size:(batch + 1) * batch_size]\n",
    "            out = np.exp(np.dot(X, W))\n",
    "            out = out / np.sum(out, axis=1, keepdims=True)\n",
    "            dW = -(1 / batch_size) * np.dot(X.T, out - Y)\n",
    "            W += lr * dW\n",
    "\n",
    "    out = np.exp(np.dot(X_test, W))\n",
    "    out = out / np.sum(out, axis=1, keepdims=True)\n",
    "    result = np.argmax(out, axis=1)\n",
    "    print(\"Accuracy of mini-batch when lr={}: {}\".format(lr, np.mean(result == np.array(df_test['Sentiment']))))"
   ]
  },
  {
   "cell_type": "code",
   "execution_count": 10,
   "metadata": {},
   "outputs": [
    {
     "name": "stderr",
     "output_type": "stream",
     "text": [
      "C:\\Users\\Marr0N\\AppData\\Local\\Temp\\ipykernel_14600\\908366442.py:10: RuntimeWarning: overflow encountered in exp\n",
      "  out = np.exp(np.dot(X, W))\n",
      "C:\\Users\\Marr0N\\AppData\\Local\\Temp\\ipykernel_14600\\908366442.py:11: RuntimeWarning: invalid value encountered in divide\n",
      "  out = out / np.sum(out, axis=1, keepdims=True)\n"
     ]
    },
    {
     "name": "stdout",
     "output_type": "stream",
     "text": [
      "Accuracy of shuffle when lr=1000.0: 0.0365\n",
      "Accuracy of shuffle when lr=100.0: 0.501\n",
      "Accuracy of shuffle when lr=10.0: 0.5025\n",
      "Accuracy of shuffle when lr=1: 0.5305\n",
      "Accuracy of shuffle when lr=0.1: 0.5085\n",
      "Accuracy of shuffle when lr=0.01: 0.471\n",
      "Accuracy of shuffle when lr=0.001: 0.441\n"
     ]
    }
   ],
   "source": [
    "for lr in lrs:\n",
    "    W = W_init.copy()\n",
    "    for epoch in range(num_epochs):\n",
    "        order = np.random.permutation(df_train.shape[0])\n",
    "        X_train_shuffle = X_train[order]\n",
    "        Y_train_shuffle = Y_train[order]\n",
    "        for batch in range(df_train.shape[0] // batch_size):\n",
    "            X = X_train_shuffle[batch * batch_size:(batch + 1) * batch_size]\n",
    "            Y = Y_train_shuffle[batch * batch_size:(batch + 1) * batch_size]\n",
    "            out = np.exp(np.dot(X, W))\n",
    "            out = out / np.sum(out, axis=1, keepdims=True)\n",
    "            dW = -(1 / batch_size) * np.dot(X.T, out - Y)\n",
    "            W += lr * dW\n",
    "\n",
    "    out = np.exp(np.dot(X_test, W))\n",
    "    out = out / np.sum(out, axis=1, keepdims=True)\n",
    "    result = np.argmax(out, axis=1)\n",
    "    print(\"Accuracy of shuffle when lr={}: {}\".format(lr, np.mean(result == np.array(df_test['Sentiment']))))"
   ]
  },
  {
   "cell_type": "markdown",
   "metadata": {},
   "source": [
    "# N-gram"
   ]
  },
  {
   "cell_type": "code",
   "execution_count": 11,
   "metadata": {},
   "outputs": [],
   "source": [
    "gram = dict()\n",
    "for phrase in df_train['Phrase']:\n",
    "    words = phrase.split(' ')\n",
    "    for g in range(num_gram):\n",
    "        for idx in range(len(words) - g):\n",
    "            word = \"\".join(words[idx:idx + g + 1])\n",
    "            if word not in gram:\n",
    "               gram[word] = len(gram)"
   ]
  },
  {
   "cell_type": "code",
   "execution_count": 12,
   "metadata": {},
   "outputs": [],
   "source": [
    "X_train = np.zeros((df_train.shape[0], len(gram)))\n",
    "for idx, phrase in enumerate(df_train['Phrase']):\n",
    "    words = phrase.split(' ')\n",
    "    for g in range(num_gram):\n",
    "        for pos in range(len(words) - g):\n",
    "            word = \"\".join(words[pos:pos + g + 1])\n",
    "            if word in gram:\n",
    "                X_train[idx, gram[word]] = 1"
   ]
  },
  {
   "cell_type": "code",
   "execution_count": 13,
   "metadata": {},
   "outputs": [],
   "source": [
    "Y_train = np.zeros((df_train.shape[0], num_classes))\n",
    "for idx, sentiment in enumerate(df_train['Sentiment']):\n",
    "    Y_train[idx, sentiment] = 1"
   ]
  },
  {
   "cell_type": "code",
   "execution_count": 14,
   "metadata": {},
   "outputs": [],
   "source": [
    "X_test = np.zeros((df_test.shape[0], len(gram)))\n",
    "for idx, phrase in enumerate(df_test['Phrase']):\n",
    "    words = phrase.split(' ')\n",
    "    for g in range(num_gram):\n",
    "        for pos in range(len(words) - g):\n",
    "            word = \"\".join(words[pos:pos + g + 1])\n",
    "            if word in gram:\n",
    "                X_test[idx, gram[word]] = 1"
   ]
  },
  {
   "cell_type": "code",
   "execution_count": 15,
   "metadata": {},
   "outputs": [],
   "source": [
    "W_init = 1e-4 * np.random.randn(len(gram), num_classes)"
   ]
  },
  {
   "cell_type": "code",
   "execution_count": 16,
   "metadata": {},
   "outputs": [
    {
     "name": "stdout",
     "output_type": "stream",
     "text": [
      "Accuracy of batch when lr=1000.0: 0.531\n",
      "Accuracy of batch when lr=100.0: 0.5635\n",
      "Accuracy of batch when lr=10.0: 0.532\n",
      "Accuracy of batch when lr=1: 0.4845\n",
      "Accuracy of batch when lr=0.1: 0.4665\n",
      "Accuracy of batch when lr=0.01: 0.4815\n",
      "Accuracy of batch when lr=0.001: 0.413\n"
     ]
    }
   ],
   "source": [
    "for lr in lrs:\n",
    "    W = W_init.copy()\n",
    "    for epoch in range(num_epochs):\n",
    "        out = np.exp(np.dot(X_train, W))\n",
    "        out = out / np.sum(out, axis=1, keepdims=True)\n",
    "        dW = -(1 / df_train.shape[0]) * np.dot(X_train.T, out - Y_train)\n",
    "        W += lr * dW\n",
    "\n",
    "    out = np.exp(np.dot(X_test, W))\n",
    "    out = out / np.sum(out, axis=1, keepdims=True)\n",
    "    result = np.argmax(out, axis=1)\n",
    "    print(\"Accuracy of batch when lr={}: {}\".format(lr, np.mean(result == np.array(df_test['Sentiment']))))"
   ]
  },
  {
   "cell_type": "code",
   "execution_count": 17,
   "metadata": {},
   "outputs": [
    {
     "name": "stderr",
     "output_type": "stream",
     "text": [
      "C:\\Users\\Marr0N\\AppData\\Local\\Temp\\ipykernel_14600\\1122723046.py:7: RuntimeWarning: overflow encountered in exp\n",
      "  out = np.exp(np.dot(X, W))\n",
      "C:\\Users\\Marr0N\\AppData\\Local\\Temp\\ipykernel_14600\\1122723046.py:8: RuntimeWarning: invalid value encountered in divide\n",
      "  out = out / np.sum(out, axis=1, keepdims=True)\n"
     ]
    },
    {
     "name": "stdout",
     "output_type": "stream",
     "text": [
      "Accuracy of mini-batch when lr=1000.0: 0.0365\n",
      "Accuracy of mini-batch when lr=100.0: 0.5285\n",
      "Accuracy of mini-batch when lr=10.0: 0.553\n",
      "Accuracy of mini-batch when lr=1: 0.5695\n",
      "Accuracy of mini-batch when lr=0.1: 0.562\n",
      "Accuracy of mini-batch when lr=0.01: 0.5055\n",
      "Accuracy of mini-batch when lr=0.001: 0.457\n"
     ]
    }
   ],
   "source": [
    "for lr in lrs:\n",
    "    W = W_init.copy()\n",
    "    for epoch in range(num_epochs):\n",
    "        for batch in range(df_train.shape[0] // batch_size):\n",
    "            X = X_train[batch * batch_size:(batch + 1) * batch_size]\n",
    "            Y = Y_train[batch * batch_size:(batch + 1) * batch_size]\n",
    "            out = np.exp(np.dot(X, W))\n",
    "            out = out / np.sum(out, axis=1, keepdims=True)\n",
    "            dW = -(1 / batch_size) * np.dot(X.T, out - Y)\n",
    "            W += lr * dW\n",
    "\n",
    "    out = np.exp(np.dot(X_test, W))\n",
    "    out = out / np.sum(out, axis=1, keepdims=True)\n",
    "    result = np.argmax(out, axis=1)\n",
    "    print(\"Accuracy of mini-batch when lr={}: {}\".format(lr, np.mean(result == np.array(df_test['Sentiment']))))"
   ]
  },
  {
   "cell_type": "code",
   "execution_count": 18,
   "metadata": {},
   "outputs": [
    {
     "name": "stderr",
     "output_type": "stream",
     "text": [
      "C:\\Users\\Marr0N\\AppData\\Local\\Temp\\ipykernel_14600\\908366442.py:10: RuntimeWarning: overflow encountered in exp\n",
      "  out = np.exp(np.dot(X, W))\n",
      "C:\\Users\\Marr0N\\AppData\\Local\\Temp\\ipykernel_14600\\908366442.py:11: RuntimeWarning: invalid value encountered in divide\n",
      "  out = out / np.sum(out, axis=1, keepdims=True)\n"
     ]
    },
    {
     "name": "stdout",
     "output_type": "stream",
     "text": [
      "Accuracy of shuffle when lr=1000.0: 0.0365\n",
      "Accuracy of shuffle when lr=100.0: 0.5515\n",
      "Accuracy of shuffle when lr=10.0: 0.5615\n",
      "Accuracy of shuffle when lr=1: 0.573\n",
      "Accuracy of shuffle when lr=0.1: 0.565\n",
      "Accuracy of shuffle when lr=0.01: 0.505\n",
      "Accuracy of shuffle when lr=0.001: 0.457\n"
     ]
    }
   ],
   "source": [
    "for lr in lrs:\n",
    "    W = W_init.copy()\n",
    "    for epoch in range(num_epochs):\n",
    "        order = np.random.permutation(df_train.shape[0])\n",
    "        X_train_shuffle = X_train[order]\n",
    "        Y_train_shuffle = Y_train[order]\n",
    "        for batch in range(df_train.shape[0] // batch_size):\n",
    "            X = X_train_shuffle[batch * batch_size:(batch + 1) * batch_size]\n",
    "            Y = Y_train_shuffle[batch * batch_size:(batch + 1) * batch_size]\n",
    "            out = np.exp(np.dot(X, W))\n",
    "            out = out / np.sum(out, axis=1, keepdims=True)\n",
    "            dW = -(1 / batch_size) * np.dot(X.T, out - Y)\n",
    "            W += lr * dW\n",
    "\n",
    "    out = np.exp(np.dot(X_test, W))\n",
    "    out = out / np.sum(out, axis=1, keepdims=True)\n",
    "    result = np.argmax(out, axis=1)\n",
    "    print(\"Accuracy of shuffle when lr={}: {}\".format(lr, np.mean(result == np.array(df_test['Sentiment']))))"
   ]
  }
 ],
 "metadata": {
  "kernelspec": {
   "display_name": "base",
   "language": "python",
   "name": "python3"
  },
  "language_info": {
   "codemirror_mode": {
    "name": "ipython",
    "version": 3
   },
   "file_extension": ".py",
   "mimetype": "text/x-python",
   "name": "python",
   "nbconvert_exporter": "python",
   "pygments_lexer": "ipython3",
   "version": "3.11.7"
  }
 },
 "nbformat": 4,
 "nbformat_minor": 2
}
